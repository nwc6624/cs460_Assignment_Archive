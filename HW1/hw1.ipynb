{
  "nbformat": 4,
  "nbformat_minor": 0,
  "metadata": {
    "colab": {
      "provenance": []
    },
    "kernelspec": {
      "name": "python3",
      "display_name": "Python 3"
    },
    "language_info": {
      "name": "python"
    }
  },
  "cells": [
    {
      "cell_type": "markdown",
      "source": [
        "# HW 1 Basics for CS460\n",
        "# by Noah Caulfield\n",
        "#2/16/2024\n",
        "italicized text"
      ],
      "metadata": {
        "id": "lOR49aEFpbAN"
      }
    },
    {
      "cell_type": "markdown",
      "source": [
        "Prolem 1"
      ],
      "metadata": {
        "id": "OIKN26vhEe7W"
      }
    },
    {
      "cell_type": "code",
      "execution_count": 3,
      "metadata": {
        "id": "RrHAYkIid_y8",
        "colab": {
          "base_uri": "https://localhost:8080/",
          "height": 0
        },
        "outputId": "817dd5af-38ad-4604-c071-6ef87ba95425"
      },
      "outputs": [
        {
          "output_type": "stream",
          "name": "stdout",
          "text": [
            "size      0.17\n",
            "color     0.00\n",
            "gender    0.17\n",
            "price     0.17\n",
            "weight    0.33\n",
            "bought    0.00\n",
            "dtype: float64\n"
          ]
        }
      ],
      "source": [
        "\n",
        "\n",
        "\n",
        "\n",
        "import pandas as pd\n",
        "import numpy as np\n",
        "\n",
        "# Given dictionary\n",
        "data = {\n",
        "    'size': ['XL', 'L', 'M', np.nan, 'M', 'M'],\n",
        "    'color': ['red', 'green', 'blue', 'green', 'red', 'green'],\n",
        "    'gender': ['female', 'male', np.nan, 'female', 'female', 'male'],\n",
        "    'price': [199.0, 89.0, np.nan, 129.0, 79.0, 89.0],\n",
        "    'weight': [500, 450, 300, np.nan, 410, np.nan],\n",
        "    'bought': ['yes', 'no', 'yes', 'no', 'yes', 'no']\n",
        "}\n",
        "\n",
        "df = pd.DataFrame(data)\n",
        "\n",
        "missing_values_percent = df.isnull().mean()\n",
        "\n",
        "adjusted_missing_values_percent = missing_values_percent.round(2)\n",
        "\n",
        "# Print the adjusted values\n",
        "print(adjusted_missing_values_percent)\n"
      ]
    },
    {
      "cell_type": "markdown",
      "source": [
        "Problem 2"
      ],
      "metadata": {
        "id": "pqKApjRWEcWi"
      }
    },
    {
      "cell_type": "code",
      "source": [
        "\n",
        "from sklearn.datasets import load_iris\n",
        "\n",
        "iris = load_iris()\n",
        "data = iris.data\n",
        "target = iris.target\n",
        "\n",
        "print(data.shape)\n",
        "print(target.shape)\n"
      ],
      "metadata": {
        "colab": {
          "base_uri": "https://localhost:8080/",
          "height": 0
        },
        "id": "84cGRYhHh5_g",
        "outputId": "2b40dde8-cda3-40f1-8f87-8b77548026e2"
      },
      "execution_count": 4,
      "outputs": [
        {
          "output_type": "stream",
          "name": "stdout",
          "text": [
            "(150, 4)\n",
            "(150,)\n"
          ]
        }
      ]
    },
    {
      "cell_type": "markdown",
      "source": [
        "Problem 3"
      ],
      "metadata": {
        "id": "HzUa0xUgEYct"
      }
    },
    {
      "cell_type": "code",
      "source": [
        "\n",
        "import numpy as np\n",
        "from sklearn.datasets import load_breast_cancer\n",
        "\n",
        "# Load the Breast Cancer Data\n",
        "raw_data = load_breast_cancer()\n",
        "\n",
        "# Extract the data and target arrays\n",
        "data = raw_data['data']\n",
        "target = raw_data['target']\n",
        "\n",
        "# Set numpy print options for better readability\n",
        "np.set_printoptions(precision=2, suppress=True, linewidth=100)\n",
        "\n",
        "# Print the first three elements of the data array\n",
        "print(data[:3])\n",
        "\n",
        "\n"
      ],
      "metadata": {
        "colab": {
          "base_uri": "https://localhost:8080/",
          "height": 0
        },
        "id": "wYAiI9dLj3hw",
        "outputId": "dca0919e-539a-4a6d-b5bb-3cfe8d952e29"
      },
      "execution_count": 7,
      "outputs": [
        {
          "output_type": "stream",
          "name": "stdout",
          "text": [
            "[[  17.99   10.38  122.8  1001.      0.12    0.28    0.3     0.15    0.24    0.08    1.09    0.91\n",
            "     8.59  153.4     0.01    0.05    0.05    0.02    0.03    0.01   25.38   17.33  184.6  2019.\n",
            "     0.16    0.67    0.71    0.27    0.46    0.12]\n",
            " [  20.57   17.77  132.9  1326.      0.08    0.08    0.09    0.07    0.18    0.06    0.54    0.73\n",
            "     3.4    74.08    0.01    0.01    0.02    0.01    0.01    0.     24.99   23.41  158.8  1956.\n",
            "     0.12    0.19    0.24    0.19    0.28    0.09]\n",
            " [  19.69   21.25  130.   1203.      0.11    0.16    0.2     0.13    0.21    0.06    0.75    0.79\n",
            "     4.58   94.03    0.01    0.04    0.04    0.02    0.02    0.     23.57   25.53  152.5  1709.\n",
            "     0.14    0.42    0.45    0.24    0.36    0.09]]\n"
          ]
        }
      ]
    },
    {
      "cell_type": "markdown",
      "source": [
        "Problem 4"
      ],
      "metadata": {
        "id": "Yap5FlETEUc0"
      }
    },
    {
      "cell_type": "code",
      "source": [
        "\n",
        "\n",
        "import numpy as np\n",
        "\n",
        "# Combine the data and target arrays into a single array\n",
        "all_data = np.c_[data, target]\n",
        "\n",
        "# Print the first three rows of the combined array\n",
        "print(all_data[:3])\n",
        "\n",
        "\n"
      ],
      "metadata": {
        "colab": {
          "base_uri": "https://localhost:8080/",
          "height": 0
        },
        "id": "DItWrIyl5zu4",
        "outputId": "e67dd4e4-876a-4538-d8ed-1970bd615063"
      },
      "execution_count": 9,
      "outputs": [
        {
          "output_type": "stream",
          "name": "stdout",
          "text": [
            "[[  17.99   10.38  122.8  1001.      0.12    0.28    0.3     0.15    0.24    0.08    1.09    0.91\n",
            "     8.59  153.4     0.01    0.05    0.05    0.02    0.03    0.01   25.38   17.33  184.6  2019.\n",
            "     0.16    0.67    0.71    0.27    0.46    0.12    0.  ]\n",
            " [  20.57   17.77  132.9  1326.      0.08    0.08    0.09    0.07    0.18    0.06    0.54    0.73\n",
            "     3.4    74.08    0.01    0.01    0.02    0.01    0.01    0.     24.99   23.41  158.8  1956.\n",
            "     0.12    0.19    0.24    0.19    0.28    0.09    0.  ]\n",
            " [  19.69   21.25  130.   1203.      0.11    0.16    0.2     0.13    0.21    0.06    0.75    0.79\n",
            "     4.58   94.03    0.01    0.04    0.04    0.02    0.02    0.     23.57   25.53  152.5  1709.\n",
            "     0.14    0.42    0.45    0.24    0.36    0.09    0.  ]]\n"
          ]
        }
      ]
    },
    {
      "cell_type": "markdown",
      "source": [
        "Problem 5"
      ],
      "metadata": {
        "id": "HxeMRHZnERgH"
      }
    },
    {
      "cell_type": "code",
      "source": [
        "\n",
        "import pandas as pd\n",
        "\n",
        "# Create a list of column names, ensuring consistency in types\n",
        "column_names = list(raw_data['feature_names']) + ['target']\n",
        "\n",
        "# Create the DataFrame, using list concatenation instead of addition\n",
        "df = pd.DataFrame(all_data, columns=column_names)\n",
        "\n",
        "# Print the first five rows of the DataFrame\n",
        "print(df.head())\n",
        "\n"
      ],
      "metadata": {
        "colab": {
          "base_uri": "https://localhost:8080/",
          "height": 0
        },
        "id": "w9Q7t65tc4sB",
        "outputId": "e85ace3e-62f4-4915-83eb-66069971c5c9"
      },
      "execution_count": 11,
      "outputs": [
        {
          "output_type": "stream",
          "name": "stdout",
          "text": [
            "   mean radius  mean texture  mean perimeter  mean area  mean smoothness  \\\n",
            "0        17.99         10.38          122.80     1001.0          0.11840   \n",
            "1        20.57         17.77          132.90     1326.0          0.08474   \n",
            "2        19.69         21.25          130.00     1203.0          0.10960   \n",
            "3        11.42         20.38           77.58      386.1          0.14250   \n",
            "4        20.29         14.34          135.10     1297.0          0.10030   \n",
            "\n",
            "   mean compactness  mean concavity  mean concave points  mean symmetry  \\\n",
            "0           0.27760          0.3001              0.14710         0.2419   \n",
            "1           0.07864          0.0869              0.07017         0.1812   \n",
            "2           0.15990          0.1974              0.12790         0.2069   \n",
            "3           0.28390          0.2414              0.10520         0.2597   \n",
            "4           0.13280          0.1980              0.10430         0.1809   \n",
            "\n",
            "   mean fractal dimension  ...  worst texture  worst perimeter  worst area  \\\n",
            "0                 0.07871  ...          17.33           184.60      2019.0   \n",
            "1                 0.05667  ...          23.41           158.80      1956.0   \n",
            "2                 0.05999  ...          25.53           152.50      1709.0   \n",
            "3                 0.09744  ...          26.50            98.87       567.7   \n",
            "4                 0.05883  ...          16.67           152.20      1575.0   \n",
            "\n",
            "   worst smoothness  worst compactness  worst concavity  worst concave points  \\\n",
            "0            0.1622             0.6656           0.7119                0.2654   \n",
            "1            0.1238             0.1866           0.2416                0.1860   \n",
            "2            0.1444             0.4245           0.4504                0.2430   \n",
            "3            0.2098             0.8663           0.6869                0.2575   \n",
            "4            0.1374             0.2050           0.4000                0.1625   \n",
            "\n",
            "   worst symmetry  worst fractal dimension  target  \n",
            "0          0.4601                  0.11890     0.0  \n",
            "1          0.2750                  0.08902     0.0  \n",
            "2          0.3613                  0.08758     0.0  \n",
            "3          0.6638                  0.17300     0.0  \n",
            "4          0.2364                  0.07678     0.0  \n",
            "\n",
            "[5 rows x 31 columns]\n"
          ]
        }
      ]
    },
    {
      "cell_type": "markdown",
      "source": [
        "Problem 6"
      ],
      "metadata": {
        "id": "LUcDVYGnEOiW"
      }
    },
    {
      "cell_type": "code",
      "source": [
        "\n",
        "import pandas as pd\n",
        "\n",
        "\n",
        "data = {\n",
        "    \"products\": [\n",
        "        \"bread eggs\",\n",
        "        \"bread eggs milk\",\n",
        "        \"milk cheese\",\n",
        "        \"bread butter cheese\",\n",
        "        \"eggs milk\",\n",
        "        \"bread milk butter cheese\",\n",
        "    ]\n",
        "}\n",
        "\n",
        "\n",
        "df = pd.DataFrame(data)\n",
        "\n",
        "expanded = df['products'].str.split(' ', expand=True).fillna('None')\n",
        "\n",
        "row_numbers = pd.Series(range(1, len(df) + 1))\n",
        "\n",
        "formatted_df = pd.concat([row_numbers, expanded], axis=1)\n",
        "formatted_df.columns = pd.RangeIndex(start=0, stop=len(formatted_df.columns), step=1)\n",
        "# Header\n",
        "final_str = '1.   0       1       2       3\\n'\n",
        "# Data rows\n",
        "for index, row in formatted_df.iterrows():\n",
        "    row_str = f\"{index + 2}.  \" + ' '.join(str(x).ljust(6) for x in row) + '\\n'\n",
        "    final_str += row_str\n",
        "final_str = final_str.rstrip('\\n')\n",
        "\n",
        "print(final_str)\n",
        "\n",
        "\n",
        "\n"
      ],
      "metadata": {
        "colab": {
          "base_uri": "https://localhost:8080/",
          "height": 0
        },
        "id": "LFp8rO2B50Rl",
        "outputId": "9b58ed1b-e0d5-4543-ce22-44f2d3bed795"
      },
      "execution_count": 29,
      "outputs": [
        {
          "output_type": "stream",
          "name": "stdout",
          "text": [
            "1.   0       1       2       3\n",
            "2.  1      bread  eggs   None   None  \n",
            "3.  2      bread  eggs   milk   None  \n",
            "4.  3      milk   cheese None   None  \n",
            "5.  4      bread  butter cheese None  \n",
            "6.  5      eggs   milk   None   None  \n",
            "7.  6      bread  milk   butter cheese\n"
          ]
        }
      ]
    },
    {
      "cell_type": "markdown",
      "source": [
        "Problem 7"
      ],
      "metadata": {
        "id": "llcjele3ELX1"
      }
    },
    {
      "cell_type": "code",
      "source": [
        "\n",
        "import pandas as pd\n",
        "\n",
        "data = {\n",
        "    \"products\": [\n",
        "        \"bread eggs\",\n",
        "        \"bread eggs milk\",\n",
        "        \"milk cheese\",\n",
        "        \"bread butter cheese\",\n",
        "        \"eggs milk\",\n",
        "        \"bread milk butter cheese\",\n",
        "    ]\n",
        "}\n",
        "\n",
        "df = pd.DataFrame(data)\n",
        "\n",
        "products_list = df['products'].str.split(' ').explode().unique()\n",
        "products_list.sort()\n",
        "\n",
        "print(f\"1. {list(products_list)}\")\n",
        "\n"
      ],
      "metadata": {
        "colab": {
          "base_uri": "https://localhost:8080/",
          "height": 0
        },
        "id": "OcBvx1qoXDWA",
        "outputId": "3798c970-0d1b-4251-a934-182457fe19b2"
      },
      "execution_count": 33,
      "outputs": [
        {
          "output_type": "stream",
          "name": "stdout",
          "text": [
            "1. ['bread', 'butter', 'cheese', 'eggs', 'milk']\n"
          ]
        }
      ]
    }
  ]
}